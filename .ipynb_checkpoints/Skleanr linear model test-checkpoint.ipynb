{
 "cells": [
  {
   "cell_type": "code",
   "execution_count": 38,
   "id": "4ef8f23f",
   "metadata": {
    "ExecuteTime": {
     "end_time": "2022-05-04T16:56:42.506996Z",
     "start_time": "2022-05-04T16:56:42.326322Z"
    }
   },
   "outputs": [],
   "source": [
    "import pandas as pd\n",
    "import numpy as np\n",
    "\n",
    "df_train = pd.read_csv('data/FD003_df_train.csv', index_col=0) \n",
    "def add_rul(g):\n",
    "    g['RUL'] = max(g['time_in_cycles']) - g['time_in_cycles']\n",
    "    return g\n",
    "\n",
    "df_train = df_train.groupby('engine_no').apply(add_rul).dropna(axis=1)\n",
    "X_train = df_train.drop('RUL', axis=1).drop('engine_no', axis=1)\n",
    "\n",
    "y_train = df_train['RUL']"
   ]
  },
  {
   "cell_type": "code",
   "execution_count": 39,
   "id": "3add30ad",
   "metadata": {
    "ExecuteTime": {
     "end_time": "2022-05-04T16:56:42.939242Z",
     "start_time": "2022-05-04T16:56:42.895619Z"
    }
   },
   "outputs": [
    {
     "data": {
      "text/plain": [
       "array([[-1.39690946, -0.21712243,  1.34313474, ...,  0.        ,\n",
       "         0.48801891, -0.26351159],\n",
       "       [-1.38679258,  0.37553765, -1.03751852, ...,  0.        ,\n",
       "         0.00581942,  0.37576676],\n",
       "       [-1.37667569, -0.62742556, -0.6974252 , ...,  0.        ,\n",
       "        -0.55674664, -0.17505798],\n",
       "       ...,\n",
       "       [ 0.11050607, -0.71860403,  1.34313474, ...,  0.        ,\n",
       "        -2.40517799, -2.17665592],\n",
       "       [ 0.12062295, -1.03772868,  1.34313474, ...,  0.        ,\n",
       "        -2.72664432, -2.1290786 ],\n",
       "       [ 0.13073984,  0.01082376,  1.00304142, ...,  0.        ,\n",
       "        -1.72206206, -2.06608891]])"
      ]
     },
     "execution_count": 39,
     "metadata": {},
     "output_type": "execute_result"
    }
   ],
   "source": [
    "from sklearn.preprocessing import StandardScaler\n",
    "\n",
    "scaler = StandardScaler()\n",
    "x_train_scaled = scaler.fit_transform(X_train)\n",
    "x_train_scaled"
   ]
  },
  {
   "cell_type": "code",
   "execution_count": 237,
   "id": "e3945c51",
   "metadata": {
    "ExecuteTime": {
     "end_time": "2022-05-04T17:10:38.352835Z",
     "start_time": "2022-05-04T17:10:38.289823Z"
    }
   },
   "outputs": [
    {
     "data": {
      "text/plain": [
       "PoissonRegressor(alpha=23.0, fit_intercept=False, max_iter=10000,\n",
       "                 warm_start=True)"
      ]
     },
     "execution_count": 237,
     "metadata": {},
     "output_type": "execute_result"
    }
   ],
   "source": [
    "from sklearn.linear_model import PoissonRegressor\n",
    "\n",
    "model = PoissonRegressor(alpha=23.0, fit_intercept=False, max_iter=10000, warm_start=True)\n",
    "model.fit(x_train_scaled, y_train)"
   ]
  },
  {
   "cell_type": "code",
   "execution_count": 238,
   "id": "853426f4",
   "metadata": {
    "ExecuteTime": {
     "end_time": "2022-05-04T17:10:38.623281Z",
     "start_time": "2022-05-04T17:10:38.609171Z"
    }
   },
   "outputs": [
    {
     "data": {
      "text/plain": [
       "0.21939426378664661"
      ]
     },
     "execution_count": 238,
     "metadata": {},
     "output_type": "execute_result"
    }
   ],
   "source": [
    "model.score(x_train_scaled, y_train)"
   ]
  },
  {
   "cell_type": "code",
   "execution_count": 239,
   "id": "d92c03d6",
   "metadata": {
    "ExecuteTime": {
     "end_time": "2022-05-04T17:10:39.051311Z",
     "start_time": "2022-05-04T17:10:38.905491Z"
    }
   },
   "outputs": [],
   "source": [
    "df_test = pd.read_csv('data/FD003_df_test.csv', index_col=0) \n",
    "def add_rul(g):\n",
    "    g['RUL'] = max(g['time_in_cycles']) - g['time_in_cycles']\n",
    "    return g\n",
    "\n",
    "df_test = df_test.groupby('engine_no').apply(add_rul).dropna(axis=1)\n",
    "X_test = df_test.drop('RUL', axis=1).drop('engine_no', axis=1)\n",
    "\n",
    "y_test = df_test['RUL']"
   ]
  },
  {
   "cell_type": "code",
   "execution_count": 240,
   "id": "b3d3541f",
   "metadata": {
    "ExecuteTime": {
     "end_time": "2022-05-04T17:10:39.178946Z",
     "start_time": "2022-05-04T17:10:39.171235Z"
    }
   },
   "outputs": [],
   "source": [
    "x_test_scaled = scaler.transform(X_test)"
   ]
  },
  {
   "cell_type": "code",
   "execution_count": 241,
   "id": "9e69929f",
   "metadata": {
    "ExecuteTime": {
     "end_time": "2022-05-04T17:10:39.491153Z",
     "start_time": "2022-05-04T17:10:39.474124Z"
    }
   },
   "outputs": [
    {
     "data": {
      "text/plain": [
       "0.12182998372243414"
      ]
     },
     "execution_count": 241,
     "metadata": {},
     "output_type": "execute_result"
    }
   ],
   "source": [
    "model.score(x_test_scaled, y_test)"
   ]
  },
  {
   "cell_type": "code",
   "execution_count": 256,
   "id": "85db1617",
   "metadata": {
    "ExecuteTime": {
     "end_time": "2022-05-04T17:15:26.925620Z",
     "start_time": "2022-05-04T17:15:25.927271Z"
    }
   },
   "outputs": [
    {
     "data": {
      "text/plain": [
       "[[21.3, 0.12353072568363477],\n",
       " [21.310000000000002, 0.12353275155353971],\n",
       " [21.32, 0.1235345459229864],\n",
       " [21.330000000000002, 0.12353618914979858],\n",
       " [21.34, 0.12353753678594015],\n",
       " [21.35, 0.12353842441378615],\n",
       " [21.36, 0.12354014938724878],\n",
       " [21.37, 0.12354123913538084],\n",
       " [21.38, 0.12354222645408808],\n",
       " [21.39, 0.1235437591133739],\n",
       " [21.4, 0.1235442680528478],\n",
       " [21.41, 0.12354467294407068],\n",
       " [21.42, 0.1235451069937531],\n",
       " [21.43, 0.12354531703052829],\n",
       " [21.44, 0.12354533268579238],\n",
       " [21.45, 0.12354548050584835],\n",
       " [21.46, 0.1235452583243064],\n",
       " [21.47, 0.12354485110769131],\n",
       " [21.48, 0.12354442838744617],\n",
       " [21.49, 0.12354422338698023],\n",
       " [21.5, 0.1235432958649304]]"
      ]
     },
     "execution_count": 256,
     "metadata": {},
     "output_type": "execute_result"
    }
   ],
   "source": [
    "r = []\n",
    "for i in np.linspace(21.3,21.5,21):\n",
    "    model = PoissonRegressor(alpha=i, fit_intercept=False, max_iter=10000, warm_start=True)\n",
    "    model.fit(x_train_scaled, y_train)\n",
    "    r.append([i,model.score(x_test_scaled, y_test)])\n",
    "    \n",
    "r"
   ]
  },
  {
   "cell_type": "code",
   "execution_count": null,
   "id": "9e003b2b",
   "metadata": {},
   "outputs": [],
   "source": []
  }
 ],
 "metadata": {
  "kernelspec": {
   "display_name": "Python 3 (ipykernel)",
   "language": "python",
   "name": "python3"
  },
  "language_info": {
   "codemirror_mode": {
    "name": "ipython",
    "version": 3
   },
   "file_extension": ".py",
   "mimetype": "text/x-python",
   "name": "python",
   "nbconvert_exporter": "python",
   "pygments_lexer": "ipython3",
   "version": "3.8.12"
  },
  "toc": {
   "base_numbering": 1,
   "nav_menu": {},
   "number_sections": true,
   "sideBar": true,
   "skip_h1_title": false,
   "title_cell": "Table of Contents",
   "title_sidebar": "Contents",
   "toc_cell": false,
   "toc_position": {},
   "toc_section_display": true,
   "toc_window_display": false
  },
  "varInspector": {
   "cols": {
    "lenName": 16,
    "lenType": 16,
    "lenVar": 40
   },
   "kernels_config": {
    "python": {
     "delete_cmd_postfix": "",
     "delete_cmd_prefix": "del ",
     "library": "var_list.py",
     "varRefreshCmd": "print(var_dic_list())"
    },
    "r": {
     "delete_cmd_postfix": ") ",
     "delete_cmd_prefix": "rm(",
     "library": "var_list.r",
     "varRefreshCmd": "cat(var_dic_list()) "
    }
   },
   "types_to_exclude": [
    "module",
    "function",
    "builtin_function_or_method",
    "instance",
    "_Feature"
   ],
   "window_display": false
  }
 },
 "nbformat": 4,
 "nbformat_minor": 5
}
