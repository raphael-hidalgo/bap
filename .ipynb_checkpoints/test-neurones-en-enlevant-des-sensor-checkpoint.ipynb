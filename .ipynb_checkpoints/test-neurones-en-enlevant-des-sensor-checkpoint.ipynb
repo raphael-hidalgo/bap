{
 "cells": [
  {
   "cell_type": "markdown",
   "metadata": {
    "_cell_guid": "b1076dfc-b9ad-4769-8c92-a6c4dae69d19",
    "_uuid": "8f2839f25d086af736a60e9eeb907d3b93b6e0e5",
    "execution": {
     "iopub.execute_input": "2022-04-08T12:15:27.052296Z",
     "iopub.status.busy": "2022-04-08T12:15:27.051867Z",
     "iopub.status.idle": "2022-04-08T12:15:27.073313Z",
     "shell.execute_reply": "2022-04-08T12:15:27.072355Z",
     "shell.execute_reply.started": "2022-04-08T12:15:27.052189Z"
    }
   },
   "source": [
    "# Imports"
   ]
  },
  {
   "cell_type": "code",
   "execution_count": 1,
   "metadata": {
    "ExecuteTime": {
     "end_time": "2022-05-02T20:36:05.512656Z",
     "start_time": "2022-05-02T20:35:59.684344Z"
    },
    "execution": {
     "iopub.execute_input": "2022-05-01T17:39:41.119357Z",
     "iopub.status.busy": "2022-05-01T17:39:41.118455Z",
     "iopub.status.idle": "2022-05-01T17:39:41.123683Z",
     "shell.execute_reply": "2022-05-01T17:39:41.122845Z",
     "shell.execute_reply.started": "2022-05-01T17:39:41.119317Z"
    }
   },
   "outputs": [],
   "source": [
    "import pandas as pd\n",
    "import os\n",
    "import seaborn as sns\n",
    "import matplotlib.pyplot as plt\n",
    "import random"
   ]
  },
  {
   "cell_type": "markdown",
   "metadata": {},
   "source": [
    "# Load data"
   ]
  },
  {
   "cell_type": "code",
   "execution_count": 3,
   "metadata": {
    "ExecuteTime": {
     "end_time": "2022-05-02T20:36:36.419966Z",
     "start_time": "2022-05-02T20:36:36.246541Z"
    },
    "execution": {
     "iopub.execute_input": "2022-05-01T17:39:41.168424Z",
     "iopub.status.busy": "2022-05-01T17:39:41.167975Z",
     "iopub.status.idle": "2022-05-01T17:39:41.313704Z",
     "shell.execute_reply": "2022-05-01T17:39:41.312803Z",
     "shell.execute_reply.started": "2022-05-01T17:39:41.168389Z"
    }
   },
   "outputs": [],
   "source": [
    "data_directory = 'data'\n",
    "chosen_dataset = 'FD003'\n",
    "\n",
    "df_train = pd.read_csv(os.path.join(data_directory, chosen_dataset + '_df_train.csv'), index_col=0) \n",
    "df_test = pd.read_csv(os.path.join(data_directory, chosen_dataset + '_df_test.csv'), index_col=0) "
   ]
  },
  {
   "cell_type": "markdown",
   "metadata": {},
   "source": [
    "# Add the RUL\n",
    "\n",
    "In the current dataset the RUL is not part of the column.\n",
    "\n",
    "In the data descrition, it is mentionned that in the training data, the engine runs until failure.\n",
    "\n",
    "Given the time in cycles, it is easy to retreive the RUL.\n",
    "\n"
   ]
  },
  {
   "cell_type": "code",
   "execution_count": 4,
   "metadata": {
    "ExecuteTime": {
     "end_time": "2022-05-02T20:36:38.656179Z",
     "start_time": "2022-05-02T20:36:38.446320Z"
    },
    "execution": {
     "iopub.execute_input": "2022-05-01T17:39:41.315964Z",
     "iopub.status.busy": "2022-05-01T17:39:41.315628Z",
     "iopub.status.idle": "2022-05-01T17:39:41.524100Z",
     "shell.execute_reply": "2022-05-01T17:39:41.523420Z",
     "shell.execute_reply.started": "2022-05-01T17:39:41.315922Z"
    }
   },
   "outputs": [],
   "source": [
    "def add_rul(g):\n",
    "    g['RUL'] = max(g['time_in_cycles']) - g['time_in_cycles']\n",
    "    return g\n",
    "\n",
    "df_train = df_train.groupby('engine_no').apply(add_rul)\n",
    "df_test = df_test.groupby('engine_no').apply(add_rul)"
   ]
  },
  {
   "cell_type": "code",
   "execution_count": 5,
   "metadata": {
    "ExecuteTime": {
     "end_time": "2022-05-02T20:36:39.500421Z",
     "start_time": "2022-05-02T20:36:39.461482Z"
    },
    "execution": {
     "iopub.execute_input": "2022-05-01T17:39:41.526401Z",
     "iopub.status.busy": "2022-05-01T17:39:41.525209Z",
     "iopub.status.idle": "2022-05-01T17:39:41.558634Z",
     "shell.execute_reply": "2022-05-01T17:39:41.557863Z",
     "shell.execute_reply.started": "2022-05-01T17:39:41.526320Z"
    }
   },
   "outputs": [
    {
     "data": {
      "text/html": [
       "<div>\n",
       "<style scoped>\n",
       "    .dataframe tbody tr th:only-of-type {\n",
       "        vertical-align: middle;\n",
       "    }\n",
       "\n",
       "    .dataframe tbody tr th {\n",
       "        vertical-align: top;\n",
       "    }\n",
       "\n",
       "    .dataframe thead th {\n",
       "        text-align: right;\n",
       "    }\n",
       "</style>\n",
       "<table border=\"1\" class=\"dataframe\">\n",
       "  <thead>\n",
       "    <tr style=\"text-align: right;\">\n",
       "      <th></th>\n",
       "      <th>engine_no</th>\n",
       "      <th>time_in_cycles</th>\n",
       "      <th>op_setting_1</th>\n",
       "      <th>op_setting_2</th>\n",
       "      <th>op_setting_3</th>\n",
       "      <th>sensor_1</th>\n",
       "      <th>sensor_2</th>\n",
       "      <th>sensor_3</th>\n",
       "      <th>sensor_4</th>\n",
       "      <th>sensor_5</th>\n",
       "      <th>...</th>\n",
       "      <th>sensor_19</th>\n",
       "      <th>sensor_20</th>\n",
       "      <th>sensor_21</th>\n",
       "      <th>sensor_22</th>\n",
       "      <th>sensor_23</th>\n",
       "      <th>sensor_24</th>\n",
       "      <th>sensor_25</th>\n",
       "      <th>sensor_26</th>\n",
       "      <th>sensor_27</th>\n",
       "      <th>RUL</th>\n",
       "    </tr>\n",
       "  </thead>\n",
       "  <tbody>\n",
       "    <tr>\n",
       "      <th>0</th>\n",
       "      <td>1</td>\n",
       "      <td>1</td>\n",
       "      <td>-0.0017</td>\n",
       "      <td>-0.0004</td>\n",
       "      <td>100.0</td>\n",
       "      <td>518.67</td>\n",
       "      <td>641.94</td>\n",
       "      <td>1581.93</td>\n",
       "      <td>1396.93</td>\n",
       "      <td>14.62</td>\n",
       "      <td>...</td>\n",
       "      <td>100.0</td>\n",
       "      <td>39.07</td>\n",
       "      <td>23.4468</td>\n",
       "      <td>NaN</td>\n",
       "      <td>NaN</td>\n",
       "      <td>NaN</td>\n",
       "      <td>NaN</td>\n",
       "      <td>NaN</td>\n",
       "      <td>NaN</td>\n",
       "      <td>232</td>\n",
       "    </tr>\n",
       "    <tr>\n",
       "      <th>1</th>\n",
       "      <td>1</td>\n",
       "      <td>2</td>\n",
       "      <td>0.0006</td>\n",
       "      <td>-0.0002</td>\n",
       "      <td>100.0</td>\n",
       "      <td>518.67</td>\n",
       "      <td>642.02</td>\n",
       "      <td>1584.86</td>\n",
       "      <td>1398.90</td>\n",
       "      <td>14.62</td>\n",
       "      <td>...</td>\n",
       "      <td>100.0</td>\n",
       "      <td>39.04</td>\n",
       "      <td>23.4807</td>\n",
       "      <td>NaN</td>\n",
       "      <td>NaN</td>\n",
       "      <td>NaN</td>\n",
       "      <td>NaN</td>\n",
       "      <td>NaN</td>\n",
       "      <td>NaN</td>\n",
       "      <td>231</td>\n",
       "    </tr>\n",
       "    <tr>\n",
       "      <th>2</th>\n",
       "      <td>1</td>\n",
       "      <td>3</td>\n",
       "      <td>0.0014</td>\n",
       "      <td>-0.0003</td>\n",
       "      <td>100.0</td>\n",
       "      <td>518.67</td>\n",
       "      <td>641.68</td>\n",
       "      <td>1581.78</td>\n",
       "      <td>1391.92</td>\n",
       "      <td>14.62</td>\n",
       "      <td>...</td>\n",
       "      <td>100.0</td>\n",
       "      <td>39.10</td>\n",
       "      <td>23.4244</td>\n",
       "      <td>NaN</td>\n",
       "      <td>NaN</td>\n",
       "      <td>NaN</td>\n",
       "      <td>NaN</td>\n",
       "      <td>NaN</td>\n",
       "      <td>NaN</td>\n",
       "      <td>230</td>\n",
       "    </tr>\n",
       "    <tr>\n",
       "      <th>3</th>\n",
       "      <td>1</td>\n",
       "      <td>4</td>\n",
       "      <td>0.0027</td>\n",
       "      <td>0.0001</td>\n",
       "      <td>100.0</td>\n",
       "      <td>518.67</td>\n",
       "      <td>642.20</td>\n",
       "      <td>1584.53</td>\n",
       "      <td>1395.34</td>\n",
       "      <td>14.62</td>\n",
       "      <td>...</td>\n",
       "      <td>100.0</td>\n",
       "      <td>38.97</td>\n",
       "      <td>23.4782</td>\n",
       "      <td>NaN</td>\n",
       "      <td>NaN</td>\n",
       "      <td>NaN</td>\n",
       "      <td>NaN</td>\n",
       "      <td>NaN</td>\n",
       "      <td>NaN</td>\n",
       "      <td>229</td>\n",
       "    </tr>\n",
       "    <tr>\n",
       "      <th>4</th>\n",
       "      <td>1</td>\n",
       "      <td>5</td>\n",
       "      <td>-0.0001</td>\n",
       "      <td>0.0001</td>\n",
       "      <td>100.0</td>\n",
       "      <td>518.67</td>\n",
       "      <td>642.46</td>\n",
       "      <td>1589.03</td>\n",
       "      <td>1395.86</td>\n",
       "      <td>14.62</td>\n",
       "      <td>...</td>\n",
       "      <td>100.0</td>\n",
       "      <td>39.09</td>\n",
       "      <td>23.3950</td>\n",
       "      <td>NaN</td>\n",
       "      <td>NaN</td>\n",
       "      <td>NaN</td>\n",
       "      <td>NaN</td>\n",
       "      <td>NaN</td>\n",
       "      <td>NaN</td>\n",
       "      <td>228</td>\n",
       "    </tr>\n",
       "    <tr>\n",
       "      <th>...</th>\n",
       "      <td>...</td>\n",
       "      <td>...</td>\n",
       "      <td>...</td>\n",
       "      <td>...</td>\n",
       "      <td>...</td>\n",
       "      <td>...</td>\n",
       "      <td>...</td>\n",
       "      <td>...</td>\n",
       "      <td>...</td>\n",
       "      <td>...</td>\n",
       "      <td>...</td>\n",
       "      <td>...</td>\n",
       "      <td>...</td>\n",
       "      <td>...</td>\n",
       "      <td>...</td>\n",
       "      <td>...</td>\n",
       "      <td>...</td>\n",
       "      <td>...</td>\n",
       "      <td>...</td>\n",
       "      <td>...</td>\n",
       "      <td>...</td>\n",
       "    </tr>\n",
       "    <tr>\n",
       "      <th>16591</th>\n",
       "      <td>100</td>\n",
       "      <td>243</td>\n",
       "      <td>0.0011</td>\n",
       "      <td>-0.0003</td>\n",
       "      <td>100.0</td>\n",
       "      <td>518.67</td>\n",
       "      <td>643.04</td>\n",
       "      <td>1594.99</td>\n",
       "      <td>1411.28</td>\n",
       "      <td>14.62</td>\n",
       "      <td>...</td>\n",
       "      <td>100.0</td>\n",
       "      <td>39.40</td>\n",
       "      <td>23.4949</td>\n",
       "      <td>NaN</td>\n",
       "      <td>NaN</td>\n",
       "      <td>NaN</td>\n",
       "      <td>NaN</td>\n",
       "      <td>NaN</td>\n",
       "      <td>NaN</td>\n",
       "      <td>4</td>\n",
       "    </tr>\n",
       "    <tr>\n",
       "      <th>16592</th>\n",
       "      <td>100</td>\n",
       "      <td>244</td>\n",
       "      <td>-0.0024</td>\n",
       "      <td>0.0002</td>\n",
       "      <td>100.0</td>\n",
       "      <td>518.67</td>\n",
       "      <td>642.47</td>\n",
       "      <td>1591.27</td>\n",
       "      <td>1417.64</td>\n",
       "      <td>14.62</td>\n",
       "      <td>...</td>\n",
       "      <td>100.0</td>\n",
       "      <td>39.42</td>\n",
       "      <td>23.6011</td>\n",
       "      <td>NaN</td>\n",
       "      <td>NaN</td>\n",
       "      <td>NaN</td>\n",
       "      <td>NaN</td>\n",
       "      <td>NaN</td>\n",
       "      <td>NaN</td>\n",
       "      <td>3</td>\n",
       "    </tr>\n",
       "    <tr>\n",
       "      <th>16593</th>\n",
       "      <td>100</td>\n",
       "      <td>245</td>\n",
       "      <td>-0.0053</td>\n",
       "      <td>0.0002</td>\n",
       "      <td>100.0</td>\n",
       "      <td>518.67</td>\n",
       "      <td>642.70</td>\n",
       "      <td>1593.81</td>\n",
       "      <td>1412.70</td>\n",
       "      <td>14.62</td>\n",
       "      <td>...</td>\n",
       "      <td>100.0</td>\n",
       "      <td>39.43</td>\n",
       "      <td>23.5482</td>\n",
       "      <td>NaN</td>\n",
       "      <td>NaN</td>\n",
       "      <td>NaN</td>\n",
       "      <td>NaN</td>\n",
       "      <td>NaN</td>\n",
       "      <td>NaN</td>\n",
       "      <td>2</td>\n",
       "    </tr>\n",
       "    <tr>\n",
       "      <th>16594</th>\n",
       "      <td>100</td>\n",
       "      <td>246</td>\n",
       "      <td>-0.0006</td>\n",
       "      <td>0.0001</td>\n",
       "      <td>100.0</td>\n",
       "      <td>518.67</td>\n",
       "      <td>642.19</td>\n",
       "      <td>1595.63</td>\n",
       "      <td>1406.58</td>\n",
       "      <td>14.62</td>\n",
       "      <td>...</td>\n",
       "      <td>100.0</td>\n",
       "      <td>39.40</td>\n",
       "      <td>23.6687</td>\n",
       "      <td>NaN</td>\n",
       "      <td>NaN</td>\n",
       "      <td>NaN</td>\n",
       "      <td>NaN</td>\n",
       "      <td>NaN</td>\n",
       "      <td>NaN</td>\n",
       "      <td>1</td>\n",
       "    </tr>\n",
       "    <tr>\n",
       "      <th>16595</th>\n",
       "      <td>100</td>\n",
       "      <td>247</td>\n",
       "      <td>0.0023</td>\n",
       "      <td>0.0004</td>\n",
       "      <td>100.0</td>\n",
       "      <td>518.67</td>\n",
       "      <td>643.19</td>\n",
       "      <td>1592.54</td>\n",
       "      <td>1407.20</td>\n",
       "      <td>14.62</td>\n",
       "      <td>...</td>\n",
       "      <td>100.0</td>\n",
       "      <td>39.41</td>\n",
       "      <td>23.6536</td>\n",
       "      <td>NaN</td>\n",
       "      <td>NaN</td>\n",
       "      <td>NaN</td>\n",
       "      <td>NaN</td>\n",
       "      <td>NaN</td>\n",
       "      <td>NaN</td>\n",
       "      <td>0</td>\n",
       "    </tr>\n",
       "  </tbody>\n",
       "</table>\n",
       "<p>16596 rows × 33 columns</p>\n",
       "</div>"
      ],
      "text/plain": [
       "       engine_no  time_in_cycles  op_setting_1  op_setting_2  op_setting_3  \\\n",
       "0              1               1       -0.0017       -0.0004         100.0   \n",
       "1              1               2        0.0006       -0.0002         100.0   \n",
       "2              1               3        0.0014       -0.0003         100.0   \n",
       "3              1               4        0.0027        0.0001         100.0   \n",
       "4              1               5       -0.0001        0.0001         100.0   \n",
       "...          ...             ...           ...           ...           ...   \n",
       "16591        100             243        0.0011       -0.0003         100.0   \n",
       "16592        100             244       -0.0024        0.0002         100.0   \n",
       "16593        100             245       -0.0053        0.0002         100.0   \n",
       "16594        100             246       -0.0006        0.0001         100.0   \n",
       "16595        100             247        0.0023        0.0004         100.0   \n",
       "\n",
       "       sensor_1  sensor_2  sensor_3  sensor_4  sensor_5  ...  sensor_19  \\\n",
       "0        518.67    641.94   1581.93   1396.93     14.62  ...      100.0   \n",
       "1        518.67    642.02   1584.86   1398.90     14.62  ...      100.0   \n",
       "2        518.67    641.68   1581.78   1391.92     14.62  ...      100.0   \n",
       "3        518.67    642.20   1584.53   1395.34     14.62  ...      100.0   \n",
       "4        518.67    642.46   1589.03   1395.86     14.62  ...      100.0   \n",
       "...         ...       ...       ...       ...       ...  ...        ...   \n",
       "16591    518.67    643.04   1594.99   1411.28     14.62  ...      100.0   \n",
       "16592    518.67    642.47   1591.27   1417.64     14.62  ...      100.0   \n",
       "16593    518.67    642.70   1593.81   1412.70     14.62  ...      100.0   \n",
       "16594    518.67    642.19   1595.63   1406.58     14.62  ...      100.0   \n",
       "16595    518.67    643.19   1592.54   1407.20     14.62  ...      100.0   \n",
       "\n",
       "       sensor_20  sensor_21  sensor_22  sensor_23  sensor_24  sensor_25  \\\n",
       "0          39.07    23.4468        NaN        NaN        NaN        NaN   \n",
       "1          39.04    23.4807        NaN        NaN        NaN        NaN   \n",
       "2          39.10    23.4244        NaN        NaN        NaN        NaN   \n",
       "3          38.97    23.4782        NaN        NaN        NaN        NaN   \n",
       "4          39.09    23.3950        NaN        NaN        NaN        NaN   \n",
       "...          ...        ...        ...        ...        ...        ...   \n",
       "16591      39.40    23.4949        NaN        NaN        NaN        NaN   \n",
       "16592      39.42    23.6011        NaN        NaN        NaN        NaN   \n",
       "16593      39.43    23.5482        NaN        NaN        NaN        NaN   \n",
       "16594      39.40    23.6687        NaN        NaN        NaN        NaN   \n",
       "16595      39.41    23.6536        NaN        NaN        NaN        NaN   \n",
       "\n",
       "       sensor_26  sensor_27  RUL  \n",
       "0            NaN        NaN  232  \n",
       "1            NaN        NaN  231  \n",
       "2            NaN        NaN  230  \n",
       "3            NaN        NaN  229  \n",
       "4            NaN        NaN  228  \n",
       "...          ...        ...  ...  \n",
       "16591        NaN        NaN    4  \n",
       "16592        NaN        NaN    3  \n",
       "16593        NaN        NaN    2  \n",
       "16594        NaN        NaN    1  \n",
       "16595        NaN        NaN    0  \n",
       "\n",
       "[16596 rows x 33 columns]"
      ]
     },
     "execution_count": 5,
     "metadata": {},
     "output_type": "execute_result"
    }
   ],
   "source": [
    "df_test"
   ]
  },
  {
   "cell_type": "markdown",
   "metadata": {},
   "source": [
    "Import pour le machine learning"
   ]
  },
  {
   "cell_type": "code",
   "execution_count": 6,
   "metadata": {
    "ExecuteTime": {
     "end_time": "2022-05-02T20:36:45.715112Z",
     "start_time": "2022-05-02T20:36:45.415783Z"
    },
    "execution": {
     "iopub.execute_input": "2022-05-01T17:39:41.561532Z",
     "iopub.status.busy": "2022-05-01T17:39:41.560523Z",
     "iopub.status.idle": "2022-05-01T17:39:41.567600Z",
     "shell.execute_reply": "2022-05-01T17:39:41.566654Z",
     "shell.execute_reply.started": "2022-05-01T17:39:41.561489Z"
    }
   },
   "outputs": [],
   "source": [
    "import sklearn                       #machine learning functions\n",
    "\n",
    "from sklearn.neural_network import MLPClassifier      # this function creates the neural network \"Multi-Layer Perceptron Classifier\"\n",
    "from sklearn.neural_network import MLPRegressor       # Backpropagation\n",
    "from sklearn.model_selection import train_test_split  # split train and test sets\n",
    "from sklearn.metrics import mean_squared_error        # RMSE\n",
    "from math import sqrt                                 # yes, python needs you load a package for sqrt\n",
    "from sklearn.metrics import r2_score                  # Coefficient of determination"
   ]
  },
  {
   "cell_type": "code",
   "execution_count": 7,
   "metadata": {
    "ExecuteTime": {
     "end_time": "2022-05-02T20:36:46.450359Z",
     "start_time": "2022-05-02T20:36:46.445024Z"
    },
    "execution": {
     "iopub.execute_input": "2022-05-01T17:39:41.569640Z",
     "iopub.status.busy": "2022-05-01T17:39:41.568877Z",
     "iopub.status.idle": "2022-05-01T17:39:41.585255Z",
     "shell.execute_reply": "2022-05-01T17:39:41.583431Z",
     "shell.execute_reply.started": "2022-05-01T17:39:41.569601Z"
    }
   },
   "outputs": [],
   "source": [
    "\n",
    "\n",
    "#Y :\n",
    "target_column =['RUL']  #this is the outcome/dependent variable Y\n",
    "#X :\n",
    "selected_features = [ 'time_in_cycles', 'op_setting_1', 'op_setting_2',\n",
    "       'sensor_2', 'sensor_3', 'sensor_4', 'sensor_7', 'sensor_8',\n",
    "       'sensor_9', 'sensor_11', 'sensor_12', 'sensor_13',\n",
    "       'sensor_14', 'sensor_15', 'sensor_17', 'sensor_20', 'sensor_21']\n"
   ]
  },
  {
   "cell_type": "code",
   "execution_count": 8,
   "metadata": {
    "ExecuteTime": {
     "end_time": "2022-05-02T20:36:47.418142Z",
     "start_time": "2022-05-02T20:36:47.395745Z"
    },
    "execution": {
     "iopub.execute_input": "2022-05-01T17:39:41.587393Z",
     "iopub.status.busy": "2022-05-01T17:39:41.586418Z",
     "iopub.status.idle": "2022-05-01T17:39:41.611317Z",
     "shell.execute_reply": "2022-05-01T17:39:41.610552Z",
     "shell.execute_reply.started": "2022-05-01T17:39:41.587350Z"
    }
   },
   "outputs": [
    {
     "name": "stdout",
     "output_type": "stream",
     "text": [
      "[       engine_no  time_in_cycles  op_setting_1  op_setting_2  op_setting_3  \\\n",
      "0              1               1       -0.0005        0.0004         100.0   \n",
      "1              1               2        0.0008       -0.0003         100.0   \n",
      "2              1               3       -0.0014       -0.0002         100.0   \n",
      "3              1               4       -0.0020        0.0001         100.0   \n",
      "4              1               5        0.0016        0.0000         100.0   \n",
      "...          ...             ...           ...           ...           ...   \n",
      "24715        100             148       -0.0016       -0.0003         100.0   \n",
      "24716        100             149        0.0034       -0.0003         100.0   \n",
      "24717        100             150       -0.0016        0.0004         100.0   \n",
      "24718        100             151       -0.0023        0.0004         100.0   \n",
      "24719        100             152        0.0000        0.0003         100.0   \n",
      "\n",
      "       sensor_1  sensor_2  sensor_3  sensor_4  sensor_5  ...  sensor_19  \\\n",
      "0        518.67    642.36   1583.23   1396.84     14.62  ...      100.0   \n",
      "1        518.67    642.50   1584.69   1396.89     14.62  ...      100.0   \n",
      "2        518.67    642.18   1582.35   1405.61     14.62  ...      100.0   \n",
      "3        518.67    642.92   1585.61   1392.27     14.62  ...      100.0   \n",
      "4        518.67    641.68   1588.63   1397.65     14.62  ...      100.0   \n",
      "...         ...       ...       ...       ...       ...  ...        ...   \n",
      "24715    518.67    643.78   1596.01   1424.11     14.62  ...      100.0   \n",
      "24716    518.67    643.29   1596.38   1429.14     14.62  ...      100.0   \n",
      "24717    518.67    643.84   1604.53   1431.41     14.62  ...      100.0   \n",
      "24718    518.67    643.94   1597.56   1426.57     14.62  ...      100.0   \n",
      "24719    518.67    643.64   1599.04   1436.06     14.62  ...      100.0   \n",
      "\n",
      "       sensor_20  sensor_21  sensor_22  sensor_23  sensor_24  sensor_25  \\\n",
      "0          39.11    23.3537        NaN        NaN        NaN        NaN   \n",
      "1          38.99    23.4491        NaN        NaN        NaN        NaN   \n",
      "2          38.85    23.3669        NaN        NaN        NaN        NaN   \n",
      "3          38.96    23.2951        NaN        NaN        NaN        NaN   \n",
      "4          39.14    23.4583        NaN        NaN        NaN        NaN   \n",
      "...          ...        ...        ...        ...        ...        ...   \n",
      "24715      38.44    22.9631        NaN        NaN        NaN        NaN   \n",
      "24716      38.50    22.9746        NaN        NaN        NaN        NaN   \n",
      "24717      38.39    23.0682        NaN        NaN        NaN        NaN   \n",
      "24718      38.31    23.0753        NaN        NaN        NaN        NaN   \n",
      "24719      38.56    23.0847        NaN        NaN        NaN        NaN   \n",
      "\n",
      "       sensor_26  sensor_27  RUL  \n",
      "0            NaN        NaN  258  \n",
      "1            NaN        NaN  257  \n",
      "2            NaN        NaN  256  \n",
      "3            NaN        NaN  255  \n",
      "4            NaN        NaN  254  \n",
      "...          ...        ...  ...  \n",
      "24715        NaN        NaN    4  \n",
      "24716        NaN        NaN    3  \n",
      "24717        NaN        NaN    2  \n",
      "24718        NaN        NaN    1  \n",
      "24719        NaN        NaN    0  \n",
      "\n",
      "[24720 rows x 33 columns]]\n"
     ]
    }
   ],
   "source": [
    "print([df_train])"
   ]
  },
  {
   "cell_type": "markdown",
   "metadata": {},
   "source": [
    "Creating the training and test datasets."
   ]
  },
  {
   "cell_type": "code",
   "execution_count": 9,
   "metadata": {
    "ExecuteTime": {
     "end_time": "2022-05-02T20:36:49.360309Z",
     "start_time": "2022-05-02T20:36:49.338448Z"
    },
    "execution": {
     "iopub.execute_input": "2022-05-01T17:39:41.612877Z",
     "iopub.status.busy": "2022-05-01T17:39:41.612501Z",
     "iopub.status.idle": "2022-05-01T17:39:41.630156Z",
     "shell.execute_reply": "2022-05-01T17:39:41.629517Z",
     "shell.execute_reply.started": "2022-05-01T17:39:41.612844Z"
    }
   },
   "outputs": [
    {
     "name": "stdout",
     "output_type": "stream",
     "text": [
      "(24720, 17)\n",
      "[[258]\n",
      " [257]\n",
      " [256]\n",
      " ...\n",
      " [  2]\n",
      " [  1]\n",
      " [  0]]\n"
     ]
    }
   ],
   "source": [
    "x_train = df_train[selected_features].values.astype('int')    # df to numpy.ndarray (tableau)\n",
    "y_train = df_train[target_column].values.astype('int')\n",
    "\n",
    "x_test = df_test[selected_features].values.astype('int')\n",
    "y_test = df_test[target_column].values.astype('int')\n",
    "\n",
    "print(x_train.shape)\n",
    "print(y_train)\n"
   ]
  },
  {
   "cell_type": "markdown",
   "metadata": {},
   "source": [
    "TEST"
   ]
  },
  {
   "cell_type": "code",
   "execution_count": 10,
   "metadata": {
    "ExecuteTime": {
     "end_time": "2022-05-02T20:37:19.672379Z",
     "start_time": "2022-05-02T20:36:50.986651Z"
    },
    "execution": {
     "iopub.execute_input": "2022-05-01T17:39:41.632139Z",
     "iopub.status.busy": "2022-05-01T17:39:41.631758Z",
     "iopub.status.idle": "2022-05-01T17:40:35.569962Z",
     "shell.execute_reply": "2022-05-01T17:40:35.569003Z",
     "shell.execute_reply.started": "2022-05-01T17:39:41.632108Z"
    }
   },
   "outputs": [],
   "source": [
    "mlp = MLPClassifier(hidden_layer_sizes=(17,17,17), activation='relu', solver='adam')\n",
    "\n",
    "mlp.fit(x_train,y_train.ravel())\n",
    "\n",
    "predict_train = mlp.predict(x_train)\n",
    "predict_test = mlp.predict(x_test)"
   ]
  },
  {
   "cell_type": "code",
   "execution_count": 11,
   "metadata": {
    "ExecuteTime": {
     "end_time": "2022-05-02T20:37:19.721078Z",
     "start_time": "2022-05-02T20:37:19.712016Z"
    },
    "execution": {
     "iopub.execute_input": "2022-05-01T17:40:35.572117Z",
     "iopub.status.busy": "2022-05-01T17:40:35.571772Z",
     "iopub.status.idle": "2022-05-01T17:40:35.582231Z",
     "shell.execute_reply": "2022-05-01T17:40:35.581223Z",
     "shell.execute_reply.started": "2022-05-01T17:40:35.572075Z"
    }
   },
   "outputs": [],
   "source": [
    "df_resultat=df_train.assign(RUL_predict=predict_train)\n",
    "df_resultat_test=df_test.assign(RUL_predict=predict_test)\n",
    "#print (df_resultat)"
   ]
  },
  {
   "cell_type": "code",
   "execution_count": 12,
   "metadata": {
    "ExecuteTime": {
     "end_time": "2022-05-02T20:37:19.815230Z",
     "start_time": "2022-05-02T20:37:19.790136Z"
    },
    "execution": {
     "iopub.execute_input": "2022-05-01T17:40:35.585307Z",
     "iopub.status.busy": "2022-05-01T17:40:35.584387Z",
     "iopub.status.idle": "2022-05-01T17:40:35.607486Z",
     "shell.execute_reply": "2022-05-01T17:40:35.606868Z",
     "shell.execute_reply.started": "2022-05-01T17:40:35.585235Z"
    }
   },
   "outputs": [
    {
     "name": "stdout",
     "output_type": "stream",
     "text": [
      "    engine_no  RUL_predict\n",
      "0           1          163\n",
      "1           2          163\n",
      "2           3          163\n",
      "3           4          163\n",
      "4           5          163\n",
      "..        ...          ...\n",
      "95         96          163\n",
      "96         97          163\n",
      "97         98          163\n",
      "98         99          163\n",
      "99        100          163\n",
      "\n",
      "[100 rows x 2 columns]\n",
      "    engine_no  RUL_predict\n",
      "0           1          163\n",
      "1           2          163\n",
      "2           3          163\n",
      "3           4          163\n",
      "4           5          163\n",
      "..        ...          ...\n",
      "95         96          163\n",
      "96         97          163\n",
      "97         98          163\n",
      "98         99          163\n",
      "99        100          163\n",
      "\n",
      "[100 rows x 2 columns]\n"
     ]
    }
   ],
   "source": [
    "test=['engine_no' , 'RUL_predict', 'RUL']\n",
    "df_final=df_resultat[test]\n",
    "df_final = df_final.groupby('engine_no').agg({'RUL_predict': 'first'}).reset_index()\n",
    "print(df_final)\n",
    "df_final_test = df_resultat_test[test]\n",
    "df_final_test = df_final_test.groupby('engine_no').agg({'RUL_predict': 'first'}).reset_index()\n",
    "print(df_final_test)\n",
    "#df_final.columns = ['engine_no', 'RUL']\n",
    "#df_final[['engine_no','RUL']].to_csv('submission.csv', index=False)\n",
    "#df_final\n"
   ]
  },
  {
   "cell_type": "code",
   "execution_count": 13,
   "metadata": {
    "ExecuteTime": {
     "end_time": "2022-05-02T20:37:19.915130Z",
     "start_time": "2022-05-02T20:37:19.879349Z"
    },
    "execution": {
     "iopub.execute_input": "2022-05-01T17:40:35.609723Z",
     "iopub.status.busy": "2022-05-01T17:40:35.609261Z",
     "iopub.status.idle": "2022-05-01T17:40:35.646092Z",
     "shell.execute_reply": "2022-05-01T17:40:35.645281Z",
     "shell.execute_reply.started": "2022-05-01T17:40:35.609682Z"
    }
   },
   "outputs": [
    {
     "name": "stdout",
     "output_type": "stream",
     "text": [
      "    engine_no  RUL_predict  RUL  difference\n",
      "0           1          163  232          69\n",
      "1           2          163  231          68\n",
      "2           3          163  230          67\n",
      "3           4          163  229          66\n",
      "4           5          163  228          65\n",
      "..        ...          ...  ...         ...\n",
      "95         96          163  137         -26\n",
      "96         97          163  136         -27\n",
      "97         98          163  135         -28\n",
      "98         99          163  134         -29\n",
      "99        100          163  133         -30\n",
      "\n",
      "[100 rows x 4 columns]\n",
      "        engine_no  RUL_predict         RUL  difference\n",
      "count  100.000000        100.0  100.000000  100.000000\n",
      "mean    50.500000        163.0  208.500000   45.500000\n",
      "std     29.011492          0.0   29.011492   29.011492\n",
      "min      1.000000        163.0  159.000000   -4.000000\n",
      "25%     25.750000        163.0  183.750000   20.750000\n",
      "50%     50.500000        163.0  208.500000   45.500000\n",
      "75%     75.250000        163.0  233.250000   70.250000\n",
      "max    100.000000        163.0  258.000000   95.000000\n",
      "        engine_no  RUL_predict         RUL  difference\n",
      "count  100.000000        100.0  100.000000  100.000000\n",
      "mean    50.500000        163.0  182.500000   19.500000\n",
      "std     29.011492          0.0   29.011492   29.011492\n",
      "min      1.000000        163.0  133.000000  -30.000000\n",
      "25%     25.750000        163.0  157.750000   -5.250000\n",
      "50%     50.500000        163.0  182.500000   19.500000\n",
      "75%     75.250000        163.0  207.250000   44.250000\n",
      "max    100.000000        163.0  232.000000   69.000000\n"
     ]
    }
   ],
   "source": [
    "df_test_resultat = df_final\n",
    "df_test_resultat ['RUL'] = df_resultat['RUL']\n",
    "df_test_resultat ['difference'] = df_test_resultat ['RUL']- df_test_resultat['RUL_predict']\n",
    "df_test_resultat_test = df_final_test\n",
    "df_test_resultat_test ['RUL'] = df_resultat_test['RUL']\n",
    "df_test_resultat_test ['difference'] = df_test_resultat_test ['RUL']- df_test_resultat_test['RUL_predict']\n",
    "print(df_test_resultat_test)\n",
    "print(df_test_resultat.describe())\n",
    "print(df_test_resultat_test.describe())"
   ]
  },
  {
   "cell_type": "code",
   "execution_count": 15,
   "metadata": {
    "ExecuteTime": {
     "end_time": "2022-05-02T20:37:40.183695Z",
     "start_time": "2022-05-02T20:37:40.156752Z"
    },
    "execution": {
     "iopub.execute_input": "2022-05-01T17:40:35.647932Z",
     "iopub.status.busy": "2022-05-01T17:40:35.647481Z",
     "iopub.status.idle": "2022-05-01T17:40:35.679724Z",
     "shell.execute_reply": "2022-05-01T17:40:35.678377Z",
     "shell.execute_reply.started": "2022-05-01T17:40:35.647890Z"
    }
   },
   "outputs": [
    {
     "ename": "ValueError",
     "evalue": "Length mismatch: Expected axis has 4 elements, new values have 2 elements",
     "output_type": "error",
     "traceback": [
      "\u001b[0;31m---------------------------------------------------------------------------\u001b[0m",
      "\u001b[0;31mValueError\u001b[0m                                Traceback (most recent call last)",
      "\u001b[0;32m/var/folders/mm/pllqfq255cqf5gb92tgtgbyc0000gn/T/ipykernel_14595/1831388989.py\u001b[0m in \u001b[0;36m<module>\u001b[0;34m\u001b[0m\n\u001b[0;32m----> 1\u001b[0;31m \u001b[0mdf_final_test\u001b[0m\u001b[0;34m.\u001b[0m\u001b[0mcolumns\u001b[0m \u001b[0;34m=\u001b[0m \u001b[0;34m[\u001b[0m\u001b[0;34m'engine_no'\u001b[0m\u001b[0;34m,\u001b[0m \u001b[0;34m'RUL'\u001b[0m\u001b[0;34m]\u001b[0m\u001b[0;34m\u001b[0m\u001b[0;34m\u001b[0m\u001b[0m\n\u001b[0m\u001b[1;32m      2\u001b[0m \u001b[0mdf_final_test\u001b[0m\u001b[0;34m[\u001b[0m\u001b[0;34m[\u001b[0m\u001b[0;34m'engine_no'\u001b[0m\u001b[0;34m,\u001b[0m\u001b[0;34m'RUL'\u001b[0m\u001b[0;34m]\u001b[0m\u001b[0;34m]\u001b[0m\u001b[0;34m.\u001b[0m\u001b[0mto_csv\u001b[0m\u001b[0;34m(\u001b[0m\u001b[0;34m'submission.csv'\u001b[0m\u001b[0;34m,\u001b[0m \u001b[0mindex\u001b[0m\u001b[0;34m=\u001b[0m\u001b[0;32mFalse\u001b[0m\u001b[0;34m)\u001b[0m\u001b[0;34m\u001b[0m\u001b[0;34m\u001b[0m\u001b[0m\n\u001b[1;32m      3\u001b[0m \u001b[0mdf_final_test\u001b[0m\u001b[0;34m\u001b[0m\u001b[0;34m\u001b[0m\u001b[0m\n",
      "\u001b[0;32m~/.pyenv/versions/3.8.12/envs/lewagon_current/lib/python3.8/site-packages/pandas/core/generic.py\u001b[0m in \u001b[0;36m__setattr__\u001b[0;34m(self, name, value)\u001b[0m\n\u001b[1;32m   5498\u001b[0m         \u001b[0;32mtry\u001b[0m\u001b[0;34m:\u001b[0m\u001b[0;34m\u001b[0m\u001b[0;34m\u001b[0m\u001b[0m\n\u001b[1;32m   5499\u001b[0m             \u001b[0mobject\u001b[0m\u001b[0;34m.\u001b[0m\u001b[0m__getattribute__\u001b[0m\u001b[0;34m(\u001b[0m\u001b[0mself\u001b[0m\u001b[0;34m,\u001b[0m \u001b[0mname\u001b[0m\u001b[0;34m)\u001b[0m\u001b[0;34m\u001b[0m\u001b[0;34m\u001b[0m\u001b[0m\n\u001b[0;32m-> 5500\u001b[0;31m             \u001b[0;32mreturn\u001b[0m \u001b[0mobject\u001b[0m\u001b[0;34m.\u001b[0m\u001b[0m__setattr__\u001b[0m\u001b[0;34m(\u001b[0m\u001b[0mself\u001b[0m\u001b[0;34m,\u001b[0m \u001b[0mname\u001b[0m\u001b[0;34m,\u001b[0m \u001b[0mvalue\u001b[0m\u001b[0;34m)\u001b[0m\u001b[0;34m\u001b[0m\u001b[0;34m\u001b[0m\u001b[0m\n\u001b[0m\u001b[1;32m   5501\u001b[0m         \u001b[0;32mexcept\u001b[0m \u001b[0mAttributeError\u001b[0m\u001b[0;34m:\u001b[0m\u001b[0;34m\u001b[0m\u001b[0;34m\u001b[0m\u001b[0m\n\u001b[1;32m   5502\u001b[0m             \u001b[0;32mpass\u001b[0m\u001b[0;34m\u001b[0m\u001b[0;34m\u001b[0m\u001b[0m\n",
      "\u001b[0;32m~/.pyenv/versions/3.8.12/envs/lewagon_current/lib/python3.8/site-packages/pandas/_libs/properties.pyx\u001b[0m in \u001b[0;36mpandas._libs.properties.AxisProperty.__set__\u001b[0;34m()\u001b[0m\n",
      "\u001b[0;32m~/.pyenv/versions/3.8.12/envs/lewagon_current/lib/python3.8/site-packages/pandas/core/generic.py\u001b[0m in \u001b[0;36m_set_axis\u001b[0;34m(self, axis, labels)\u001b[0m\n\u001b[1;32m    764\u001b[0m     \u001b[0;32mdef\u001b[0m \u001b[0m_set_axis\u001b[0m\u001b[0;34m(\u001b[0m\u001b[0mself\u001b[0m\u001b[0;34m,\u001b[0m \u001b[0maxis\u001b[0m\u001b[0;34m:\u001b[0m \u001b[0mint\u001b[0m\u001b[0;34m,\u001b[0m \u001b[0mlabels\u001b[0m\u001b[0;34m:\u001b[0m \u001b[0mIndex\u001b[0m\u001b[0;34m)\u001b[0m \u001b[0;34m->\u001b[0m \u001b[0;32mNone\u001b[0m\u001b[0;34m:\u001b[0m\u001b[0;34m\u001b[0m\u001b[0;34m\u001b[0m\u001b[0m\n\u001b[1;32m    765\u001b[0m         \u001b[0mlabels\u001b[0m \u001b[0;34m=\u001b[0m \u001b[0mensure_index\u001b[0m\u001b[0;34m(\u001b[0m\u001b[0mlabels\u001b[0m\u001b[0;34m)\u001b[0m\u001b[0;34m\u001b[0m\u001b[0;34m\u001b[0m\u001b[0m\n\u001b[0;32m--> 766\u001b[0;31m         \u001b[0mself\u001b[0m\u001b[0;34m.\u001b[0m\u001b[0m_mgr\u001b[0m\u001b[0;34m.\u001b[0m\u001b[0mset_axis\u001b[0m\u001b[0;34m(\u001b[0m\u001b[0maxis\u001b[0m\u001b[0;34m,\u001b[0m \u001b[0mlabels\u001b[0m\u001b[0;34m)\u001b[0m\u001b[0;34m\u001b[0m\u001b[0;34m\u001b[0m\u001b[0m\n\u001b[0m\u001b[1;32m    767\u001b[0m         \u001b[0mself\u001b[0m\u001b[0;34m.\u001b[0m\u001b[0m_clear_item_cache\u001b[0m\u001b[0;34m(\u001b[0m\u001b[0;34m)\u001b[0m\u001b[0;34m\u001b[0m\u001b[0;34m\u001b[0m\u001b[0m\n\u001b[1;32m    768\u001b[0m \u001b[0;34m\u001b[0m\u001b[0m\n",
      "\u001b[0;32m~/.pyenv/versions/3.8.12/envs/lewagon_current/lib/python3.8/site-packages/pandas/core/internals/managers.py\u001b[0m in \u001b[0;36mset_axis\u001b[0;34m(self, axis, new_labels)\u001b[0m\n\u001b[1;32m    214\u001b[0m     \u001b[0;32mdef\u001b[0m \u001b[0mset_axis\u001b[0m\u001b[0;34m(\u001b[0m\u001b[0mself\u001b[0m\u001b[0;34m,\u001b[0m \u001b[0maxis\u001b[0m\u001b[0;34m:\u001b[0m \u001b[0mint\u001b[0m\u001b[0;34m,\u001b[0m \u001b[0mnew_labels\u001b[0m\u001b[0;34m:\u001b[0m \u001b[0mIndex\u001b[0m\u001b[0;34m)\u001b[0m \u001b[0;34m->\u001b[0m \u001b[0;32mNone\u001b[0m\u001b[0;34m:\u001b[0m\u001b[0;34m\u001b[0m\u001b[0;34m\u001b[0m\u001b[0m\n\u001b[1;32m    215\u001b[0m         \u001b[0;31m# Caller is responsible for ensuring we have an Index object.\u001b[0m\u001b[0;34m\u001b[0m\u001b[0;34m\u001b[0m\u001b[0;34m\u001b[0m\u001b[0m\n\u001b[0;32m--> 216\u001b[0;31m         \u001b[0mself\u001b[0m\u001b[0;34m.\u001b[0m\u001b[0m_validate_set_axis\u001b[0m\u001b[0;34m(\u001b[0m\u001b[0maxis\u001b[0m\u001b[0;34m,\u001b[0m \u001b[0mnew_labels\u001b[0m\u001b[0;34m)\u001b[0m\u001b[0;34m\u001b[0m\u001b[0;34m\u001b[0m\u001b[0m\n\u001b[0m\u001b[1;32m    217\u001b[0m         \u001b[0mself\u001b[0m\u001b[0;34m.\u001b[0m\u001b[0maxes\u001b[0m\u001b[0;34m[\u001b[0m\u001b[0maxis\u001b[0m\u001b[0;34m]\u001b[0m \u001b[0;34m=\u001b[0m \u001b[0mnew_labels\u001b[0m\u001b[0;34m\u001b[0m\u001b[0;34m\u001b[0m\u001b[0m\n\u001b[1;32m    218\u001b[0m \u001b[0;34m\u001b[0m\u001b[0m\n",
      "\u001b[0;32m~/.pyenv/versions/3.8.12/envs/lewagon_current/lib/python3.8/site-packages/pandas/core/internals/base.py\u001b[0m in \u001b[0;36m_validate_set_axis\u001b[0;34m(self, axis, new_labels)\u001b[0m\n\u001b[1;32m     55\u001b[0m \u001b[0;34m\u001b[0m\u001b[0m\n\u001b[1;32m     56\u001b[0m         \u001b[0;32melif\u001b[0m \u001b[0mnew_len\u001b[0m \u001b[0;34m!=\u001b[0m \u001b[0mold_len\u001b[0m\u001b[0;34m:\u001b[0m\u001b[0;34m\u001b[0m\u001b[0;34m\u001b[0m\u001b[0m\n\u001b[0;32m---> 57\u001b[0;31m             raise ValueError(\n\u001b[0m\u001b[1;32m     58\u001b[0m                 \u001b[0;34mf\"Length mismatch: Expected axis has {old_len} elements, new \"\u001b[0m\u001b[0;34m\u001b[0m\u001b[0;34m\u001b[0m\u001b[0m\n\u001b[1;32m     59\u001b[0m                 \u001b[0;34mf\"values have {new_len} elements\"\u001b[0m\u001b[0;34m\u001b[0m\u001b[0;34m\u001b[0m\u001b[0m\n",
      "\u001b[0;31mValueError\u001b[0m: Length mismatch: Expected axis has 4 elements, new values have 2 elements"
     ]
    }
   ],
   "source": [
    "df_final_test.columns = ['engine_no', 'RUL']\n",
    "df_final_test[['engine_no','RUL']].to_csv('submission.csv', index=False)\n",
    "df_final_test"
   ]
  },
  {
   "cell_type": "code",
   "execution_count": null,
   "metadata": {},
   "outputs": [],
   "source": []
  },
  {
   "cell_type": "markdown",
   "metadata": {},
   "source": [
    "# You work for the next lesson:\n",
    "\n",
    "By groups of 3 :\n",
    "- Try to have the best model on FD003\n",
    "- Prepare a quick presentation (5 min) explaining your data analysis and you model.\n",
    "- Explain how you would answer to the following issue :\n",
    "«I need to predict failure on my engine. Considering that each engine does 8 cycles a day on average. If my engine fails, it costs 4m to repair, and 500k of operational impact. If I repair the engine before failure it costs me 1m and depending on removal planning, costs are different. If I plan my maintenance within 5 days it costs me 400k of operational impact. From 5 to 10 days 200k, and above 10 days 100k. Also I know that if I remove an engine before it fails I lose some potential (~3,5k / cycle);»"
   ]
  }
 ],
 "metadata": {
  "kernelspec": {
   "display_name": "Python 3 (ipykernel)",
   "language": "python",
   "name": "python3"
  },
  "language_info": {
   "codemirror_mode": {
    "name": "ipython",
    "version": 3
   },
   "file_extension": ".py",
   "mimetype": "text/x-python",
   "name": "python",
   "nbconvert_exporter": "python",
   "pygments_lexer": "ipython3",
   "version": "3.8.12"
  },
  "toc": {
   "base_numbering": 1,
   "nav_menu": {},
   "number_sections": true,
   "sideBar": true,
   "skip_h1_title": false,
   "title_cell": "Table of Contents",
   "title_sidebar": "Contents",
   "toc_cell": false,
   "toc_position": {},
   "toc_section_display": true,
   "toc_window_display": false
  },
  "varInspector": {
   "cols": {
    "lenName": 16,
    "lenType": 16,
    "lenVar": 40
   },
   "kernels_config": {
    "python": {
     "delete_cmd_postfix": "",
     "delete_cmd_prefix": "del ",
     "library": "var_list.py",
     "varRefreshCmd": "print(var_dic_list())"
    },
    "r": {
     "delete_cmd_postfix": ") ",
     "delete_cmd_prefix": "rm(",
     "library": "var_list.r",
     "varRefreshCmd": "cat(var_dic_list()) "
    }
   },
   "types_to_exclude": [
    "module",
    "function",
    "builtin_function_or_method",
    "instance",
    "_Feature"
   ],
   "window_display": false
  }
 },
 "nbformat": 4,
 "nbformat_minor": 4
}
