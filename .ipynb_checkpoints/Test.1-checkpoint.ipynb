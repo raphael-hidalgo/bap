{
 "cells": [
  {
   "cell_type": "code",
   "execution_count": 1,
   "id": "2f4a73ce",
   "metadata": {
    "ExecuteTime": {
     "end_time": "2022-05-03T19:51:42.729546Z",
     "start_time": "2022-05-03T19:51:42.094483Z"
    }
   },
   "outputs": [],
   "source": [
    "import pandas as pd"
   ]
  },
  {
   "cell_type": "code",
   "execution_count": 4,
   "id": "5f7730c6",
   "metadata": {
    "ExecuteTime": {
     "end_time": "2022-05-03T19:51:48.224072Z",
     "start_time": "2022-05-03T19:51:48.083765Z"
    }
   },
   "outputs": [],
   "source": [
    "df_train = pd.read_csv('data/FD003_df_train.csv', index_col=0) \n",
    "df_test = pd.read_csv('data/FD003_df_test.csv', index_col=0) "
   ]
  },
  {
   "cell_type": "code",
   "execution_count": 5,
   "id": "b207ea6d",
   "metadata": {
    "ExecuteTime": {
     "end_time": "2022-05-03T19:51:48.963302Z",
     "start_time": "2022-05-03T19:51:48.749718Z"
    }
   },
   "outputs": [],
   "source": [
    "def add_rul(g):\n",
    "    g['RUL'] = max(g['time_in_cycles']) - g['time_in_cycles']\n",
    "    return g\n",
    "\n",
    "df_train_rul = df_train.groupby('engine_no').apply(add_rul).dropna(axis=1).drop('engine_no', axis=1)\n",
    "df_test_rul = df_test.groupby('engine_no').apply(add_rul).dropna(axis=1).drop('engine_no', axis=1)\n",
    "df_train_rul = df_train_rul.fillna(df_train_rul.mean())\n",
    "df_test_rul = df_test_rul.fillna(df_test_rul.mean())\n",
    "y_train = df_train_rul['RUL']\n",
    "X_train = df_train_rul.drop('RUL', axis=1)\n",
    "y_test = df_test_rul['RUL']\n",
    "X_test = df_test_rul.drop('RUL', axis=1)\n"
   ]
  },
  {
   "cell_type": "code",
   "execution_count": 17,
   "id": "acab8d3f",
   "metadata": {
    "ExecuteTime": {
     "end_time": "2022-05-03T20:44:21.552094Z",
     "start_time": "2022-05-03T20:44:21.519419Z"
    }
   },
   "outputs": [
    {
     "data": {
      "text/plain": [
       "(25,)"
      ]
     },
     "execution_count": 17,
     "metadata": {},
     "output_type": "execute_result"
    }
   ],
   "source": [
    "from sklearn.preprocessing import StandardScaler\n",
    "\n",
    "#for col in X.columns:\n",
    "#    scaler = StandardScaler()\n",
    "#    scaler.fit_transform(X[col])\n",
    "\n",
    "scaler = StandardScaler()\n",
    "x_train_scaled = scaler.fit_transform(X_train)\n",
    "#x_train_scaled = pd.DataFrame(x_train_scaled).dropna(axis = 1)\n",
    "\n",
    "x_test_scaled = scaler.transform(X_test)\n",
    "#x_test_scaled = pd.DataFrame(x_train_scaled).dropna(axis = 1)\n",
    "\n",
    "x_test_scaled[0].shape"
   ]
  },
  {
   "cell_type": "code",
   "execution_count": 18,
   "id": "7672bb66",
   "metadata": {
    "ExecuteTime": {
     "end_time": "2022-05-03T20:44:22.257020Z",
     "start_time": "2022-05-03T20:44:22.214902Z"
    }
   },
   "outputs": [
    {
     "name": "stdout",
     "output_type": "stream",
     "text": [
      "Model: \"sequential_3\"\n",
      "_________________________________________________________________\n",
      "Layer (type)                 Output Shape              Param #   \n",
      "=================================================================\n",
      "dense_9 (Dense)              (None, 32)                832       \n",
      "_________________________________________________________________\n",
      "dense_10 (Dense)             (None, 8)                 264       \n",
      "_________________________________________________________________\n",
      "dropout_5 (Dropout)          (None, 8)                 0         \n",
      "_________________________________________________________________\n",
      "dense_11 (Dense)             (None, 1)                 9         \n",
      "=================================================================\n",
      "Total params: 1,105\n",
      "Trainable params: 1,105\n",
      "Non-trainable params: 0\n",
      "_________________________________________________________________\n"
     ]
    }
   ],
   "source": [
    "from tensorflow.keras import layers, models, Sequential\n",
    "\n",
    "from tensorflow.keras.optimizers import Adam\n",
    "\n",
    "def build_model_rnn():\n",
    "    model = Sequential()\n",
    "    model.add(layers.Dense(32, input_dim = (25), activation='relu'))\n",
    "    model.add(layers.Dense(8, activation='relu'))\n",
    "    model.add(layers.Dropout(0.1))\n",
    "    model.add(layers.Dense(1, activation='linear'))\n",
    "\n",
    "    model.compile(loss=\"mse\", optimizer=Adam(learning_rate=0.0005), metrics=['accuracy'])\n",
    "    return model\n",
    "\n",
    "model_rnn = build_model_rnn()\n",
    "model_rnn.summary()"
   ]
  },
  {
   "cell_type": "code",
   "execution_count": 15,
   "id": "a6660da8",
   "metadata": {
    "ExecuteTime": {
     "end_time": "2022-05-03T19:52:53.623381Z",
     "start_time": "2022-05-03T19:52:40.867650Z"
    }
   },
   "outputs": [
    {
     "name": "stdout",
     "output_type": "stream",
     "text": [
      "Epoch 1/50\n",
      "309/309 [==============================] - 1s 1ms/step - loss: 25637.2598 - accuracy: 0.0039 - val_loss: 22558.4336 - val_accuracy: 0.0042\n",
      "Epoch 2/50\n",
      "309/309 [==============================] - 0s 762us/step - loss: 10235.2305 - accuracy: 0.0040 - val_loss: 7703.1934 - val_accuracy: 0.0042\n",
      "Epoch 3/50\n",
      "309/309 [==============================] - 0s 755us/step - loss: 4331.6660 - accuracy: 0.0040 - val_loss: 5619.7866 - val_accuracy: 0.0042\n",
      "Epoch 4/50\n",
      "309/309 [==============================] - 0s 750us/step - loss: 3883.6399 - accuracy: 0.0040 - val_loss: 5077.5889 - val_accuracy: 0.0042\n",
      "Epoch 5/50\n",
      "309/309 [==============================] - 0s 797us/step - loss: 3803.9463 - accuracy: 0.0040 - val_loss: 4918.9634 - val_accuracy: 0.0042\n",
      "Epoch 6/50\n",
      "309/309 [==============================] - 0s 778us/step - loss: 3706.6680 - accuracy: 0.0045 - val_loss: 4772.3438 - val_accuracy: 0.0047\n",
      "Epoch 7/50\n",
      "309/309 [==============================] - 0s 765us/step - loss: 3717.1731 - accuracy: 0.0042 - val_loss: 4755.9941 - val_accuracy: 0.0047\n",
      "Epoch 8/50\n",
      "309/309 [==============================] - 0s 767us/step - loss: 3655.3330 - accuracy: 0.0048 - val_loss: 4758.7891 - val_accuracy: 0.0055\n",
      "Epoch 9/50\n",
      "309/309 [==============================] - 0s 806us/step - loss: 3680.8369 - accuracy: 0.0041 - val_loss: 4696.1987 - val_accuracy: 0.0055\n",
      "Epoch 10/50\n",
      "309/309 [==============================] - 0s 816us/step - loss: 3604.2612 - accuracy: 0.0049 - val_loss: 4700.9409 - val_accuracy: 0.0053\n",
      "Epoch 11/50\n",
      "309/309 [==============================] - 0s 766us/step - loss: 3578.2002 - accuracy: 0.0049 - val_loss: 4708.2334 - val_accuracy: 0.0053\n",
      "Epoch 12/50\n",
      "309/309 [==============================] - 0s 792us/step - loss: 3615.2678 - accuracy: 0.0045 - val_loss: 4650.1548 - val_accuracy: 0.0053\n",
      "Epoch 13/50\n",
      "309/309 [==============================] - 0s 819us/step - loss: 3582.0830 - accuracy: 0.0046 - val_loss: 4644.4482 - val_accuracy: 0.0053\n",
      "Epoch 14/50\n",
      "309/309 [==============================] - 0s 824us/step - loss: 3574.1877 - accuracy: 0.0051 - val_loss: 4654.4321 - val_accuracy: 0.0051\n",
      "Epoch 15/50\n",
      "309/309 [==============================] - 0s 756us/step - loss: 3599.3511 - accuracy: 0.0047 - val_loss: 4608.0806 - val_accuracy: 0.0053\n",
      "Epoch 16/50\n",
      "309/309 [==============================] - 0s 963us/step - loss: 3572.3018 - accuracy: 0.0043 - val_loss: 4679.5757 - val_accuracy: 0.0053\n",
      "Epoch 17/50\n",
      "309/309 [==============================] - 0s 829us/step - loss: 3572.9653 - accuracy: 0.0043 - val_loss: 4572.0132 - val_accuracy: 0.0055\n",
      "Epoch 18/50\n",
      "309/309 [==============================] - 0s 797us/step - loss: 3572.5781 - accuracy: 0.0043 - val_loss: 4621.4521 - val_accuracy: 0.0051\n",
      "Epoch 19/50\n",
      "309/309 [==============================] - 0s 751us/step - loss: 3473.6743 - accuracy: 0.0046 - val_loss: 4639.9268 - val_accuracy: 0.0051\n",
      "Epoch 20/50\n",
      "309/309 [==============================] - 0s 764us/step - loss: 3498.0715 - accuracy: 0.0048 - val_loss: 4651.8843 - val_accuracy: 0.0049\n",
      "Epoch 21/50\n",
      "309/309 [==============================] - 0s 832us/step - loss: 3464.3240 - accuracy: 0.0043 - val_loss: 4597.3408 - val_accuracy: 0.0051\n",
      "Epoch 22/50\n",
      "309/309 [==============================] - 0s 814us/step - loss: 3425.1230 - accuracy: 0.0044 - val_loss: 4486.6167 - val_accuracy: 0.0047\n",
      "Epoch 23/50\n",
      "309/309 [==============================] - 0s 769us/step - loss: 3420.4358 - accuracy: 0.0043 - val_loss: 4645.9497 - val_accuracy: 0.0047\n",
      "Epoch 24/50\n",
      "309/309 [==============================] - 0s 772us/step - loss: 3431.4749 - accuracy: 0.0046 - val_loss: 4521.8188 - val_accuracy: 0.0051\n",
      "Epoch 25/50\n",
      "309/309 [==============================] - 0s 789us/step - loss: 3400.2007 - accuracy: 0.0047 - val_loss: 4529.5791 - val_accuracy: 0.0047\n",
      "Epoch 26/50\n",
      "309/309 [==============================] - 0s 743us/step - loss: 3406.1516 - accuracy: 0.0040 - val_loss: 4452.3848 - val_accuracy: 0.0042\n",
      "Epoch 27/50\n",
      "309/309 [==============================] - 0s 844us/step - loss: 3406.7083 - accuracy: 0.0042 - val_loss: 4487.9424 - val_accuracy: 0.0047\n",
      "Epoch 28/50\n",
      "309/309 [==============================] - 0s 835us/step - loss: 3359.5667 - accuracy: 0.0044 - val_loss: 4481.0317 - val_accuracy: 0.0047\n",
      "Epoch 29/50\n",
      "309/309 [==============================] - 0s 805us/step - loss: 3337.5791 - accuracy: 0.0046 - val_loss: 4409.2402 - val_accuracy: 0.0044\n",
      "Epoch 30/50\n",
      "309/309 [==============================] - 0s 803us/step - loss: 3350.5164 - accuracy: 0.0049 - val_loss: 4433.1582 - val_accuracy: 0.0049\n",
      "Epoch 31/50\n",
      "309/309 [==============================] - 0s 792us/step - loss: 3354.1392 - accuracy: 0.0045 - val_loss: 4465.3765 - val_accuracy: 0.0051\n",
      "Epoch 32/50\n",
      "309/309 [==============================] - 0s 808us/step - loss: 3293.0645 - accuracy: 0.0046 - val_loss: 4362.3408 - val_accuracy: 0.0051\n",
      "Epoch 33/50\n",
      "309/309 [==============================] - 0s 831us/step - loss: 3292.7136 - accuracy: 0.0046 - val_loss: 4419.5083 - val_accuracy: 0.0044\n",
      "Epoch 34/50\n",
      "309/309 [==============================] - 0s 765us/step - loss: 3278.3574 - accuracy: 0.0047 - val_loss: 4436.5703 - val_accuracy: 0.0049\n",
      "Epoch 35/50\n",
      "309/309 [==============================] - 0s 754us/step - loss: 3283.0596 - accuracy: 0.0050 - val_loss: 4357.7446 - val_accuracy: 0.0051\n",
      "Epoch 36/50\n",
      "309/309 [==============================] - 0s 754us/step - loss: 3293.0750 - accuracy: 0.0044 - val_loss: 4467.3232 - val_accuracy: 0.0044\n",
      "Epoch 37/50\n",
      "309/309 [==============================] - 0s 779us/step - loss: 3284.6042 - accuracy: 0.0042 - val_loss: 4273.2490 - val_accuracy: 0.0051\n",
      "Epoch 38/50\n",
      "309/309 [==============================] - 0s 742us/step - loss: 3258.5347 - accuracy: 0.0047 - val_loss: 4303.7939 - val_accuracy: 0.0051\n",
      "Epoch 39/50\n",
      "309/309 [==============================] - 0s 760us/step - loss: 3190.0906 - accuracy: 0.0048 - val_loss: 4298.8501 - val_accuracy: 0.0049\n",
      "Epoch 40/50\n",
      "309/309 [==============================] - 0s 765us/step - loss: 3273.1279 - accuracy: 0.0043 - val_loss: 4313.9980 - val_accuracy: 0.0049\n",
      "Epoch 41/50\n",
      "309/309 [==============================] - 0s 755us/step - loss: 3223.4861 - accuracy: 0.0042 - val_loss: 4278.5967 - val_accuracy: 0.0049\n",
      "Epoch 42/50\n",
      "309/309 [==============================] - 0s 974us/step - loss: 3256.4407 - accuracy: 0.0042 - val_loss: 4325.1641 - val_accuracy: 0.0051\n",
      "Epoch 43/50\n",
      "309/309 [==============================] - 0s 748us/step - loss: 3191.4841 - accuracy: 0.0042 - val_loss: 4350.3677 - val_accuracy: 0.0051\n",
      "Epoch 44/50\n",
      "309/309 [==============================] - 0s 751us/step - loss: 3181.5249 - accuracy: 0.0041 - val_loss: 4319.6665 - val_accuracy: 0.0049\n",
      "Epoch 45/50\n",
      "309/309 [==============================] - 0s 823us/step - loss: 3176.8457 - accuracy: 0.0041 - val_loss: 4210.6792 - val_accuracy: 0.0044\n",
      "Epoch 46/50\n",
      "309/309 [==============================] - 0s 786us/step - loss: 3176.6189 - accuracy: 0.0040 - val_loss: 4266.4346 - val_accuracy: 0.0044\n",
      "Epoch 47/50\n",
      "309/309 [==============================] - 0s 801us/step - loss: 3182.7280 - accuracy: 0.0040 - val_loss: 4344.4854 - val_accuracy: 0.0044\n",
      "Epoch 48/50\n",
      "309/309 [==============================] - 0s 805us/step - loss: 3160.2490 - accuracy: 0.0042 - val_loss: 4338.5796 - val_accuracy: 0.0044\n",
      "Epoch 49/50\n",
      "309/309 [==============================] - 0s 769us/step - loss: 3189.2878 - accuracy: 0.0039 - val_loss: 4278.7979 - val_accuracy: 0.0047\n",
      "Epoch 50/50\n",
      "309/309 [==============================] - 0s 821us/step - loss: 3175.4355 - accuracy: 0.0040 - val_loss: 4241.5752 - val_accuracy: 0.0040\n"
     ]
    },
    {
     "data": {
      "text/plain": [
       "<tensorflow.python.keras.callbacks.History at 0x17095c220>"
      ]
     },
     "execution_count": 15,
     "metadata": {},
     "output_type": "execute_result"
    }
   ],
   "source": [
    "from tensorflow.keras.callbacks import EarlyStopping\n",
    "\n",
    "es = EarlyStopping(patience=10)\n",
    "\n",
    "model_rnn.fit(x_train_scaled, y_train, verbose = 1, validation_split = 0.2, epochs=50, batch_size=64, callbacks=[es])"
   ]
  },
  {
   "cell_type": "code",
   "execution_count": 16,
   "id": "567b6900",
   "metadata": {
    "ExecuteTime": {
     "end_time": "2022-05-03T19:52:54.245189Z",
     "start_time": "2022-05-03T19:52:53.939401Z"
    }
   },
   "outputs": [
    {
     "name": "stdout",
     "output_type": "stream",
     "text": [
      "519/519 [==============================] - 0s 507us/step - loss: 9764.0391 - accuracy: 0.0060\n"
     ]
    },
    {
     "data": {
      "text/plain": [
       "[9764.0390625, 0.006025548093020916]"
      ]
     },
     "execution_count": 16,
     "metadata": {},
     "output_type": "execute_result"
    }
   ],
   "source": [
    "model_rnn.evaluate(x_test_scaled, y_test)"
   ]
  },
  {
   "cell_type": "code",
   "execution_count": null,
   "id": "981bf5d4",
   "metadata": {},
   "outputs": [],
   "source": []
  }
 ],
 "metadata": {
  "kernelspec": {
   "display_name": "Python 3 (ipykernel)",
   "language": "python",
   "name": "python3"
  },
  "language_info": {
   "codemirror_mode": {
    "name": "ipython",
    "version": 3
   },
   "file_extension": ".py",
   "mimetype": "text/x-python",
   "name": "python",
   "nbconvert_exporter": "python",
   "pygments_lexer": "ipython3",
   "version": "3.8.12"
  },
  "toc": {
   "base_numbering": 1,
   "nav_menu": {},
   "number_sections": true,
   "sideBar": true,
   "skip_h1_title": false,
   "title_cell": "Table of Contents",
   "title_sidebar": "Contents",
   "toc_cell": false,
   "toc_position": {},
   "toc_section_display": true,
   "toc_window_display": false
  },
  "varInspector": {
   "cols": {
    "lenName": 16,
    "lenType": 16,
    "lenVar": 40
   },
   "kernels_config": {
    "python": {
     "delete_cmd_postfix": "",
     "delete_cmd_prefix": "del ",
     "library": "var_list.py",
     "varRefreshCmd": "print(var_dic_list())"
    },
    "r": {
     "delete_cmd_postfix": ") ",
     "delete_cmd_prefix": "rm(",
     "library": "var_list.r",
     "varRefreshCmd": "cat(var_dic_list()) "
    }
   },
   "types_to_exclude": [
    "module",
    "function",
    "builtin_function_or_method",
    "instance",
    "_Feature"
   ],
   "window_display": false
  }
 },
 "nbformat": 4,
 "nbformat_minor": 5
}
